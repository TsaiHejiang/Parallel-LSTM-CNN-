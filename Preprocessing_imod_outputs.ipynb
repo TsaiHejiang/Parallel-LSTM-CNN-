{
 "cells": [
  {
   "cell_type": "code",
   "execution_count": 1,
   "metadata": {},
   "outputs": [],
   "source": [
    "import warnings\n",
    "warnings.simplefilter(action='ignore', category=FutureWarning)\n",
    "\n",
    "import os, logging, pickle\n",
    "from tqdm.notebook import tqdm\n",
    "import numpy as np\n",
    "import pandas as pd\n",
    "import matplotlib.pyplot as plt\n",
    "from scipy import signal\n",
    "#from keras import backend as K\n",
    "\n",
    "## Ignore all the warnings\n",
    "tf.get_logger().setLevel(logging.ERROR)\n",
    "os.environ['TF_CPP_MIN_LOG_LEVEL'] = '2'\n",
    "os.environ['KMP_WARNINGS'] = '0'\n",
    "\n",
    "plt.rcParams.update(plt.rcParamsDefault)\n",
    "\n",
    "import matplotlib.pyplot as plt\n",
    "\n",
    "\n"
   ]
  },
  {
   "cell_type": "code",
   "execution_count": 19,
   "metadata": {},
   "outputs": [],
   "source": [
    "folder_path = r\"C:\\Users\\e0427809\\Desktop\\Try\\well_50\\wells\\w12_4\"  \n",
    "merged_data = []\n",
    "\n",
    "#Get the file names starting with \"erate\" in the folder\n",
    "file_names = [filename for filename in os.listdir(folder_path) if filename.startswith(\"erate\")]\n",
    "\n",
    "# Sort filenames based on numerical size\n",
    "sorted_file_names = sorted(file_names, key=lambda x: int(x.replace(\"erate\", \"\").replace(\".csv\", \"\")))\n",
    "\n",
    "for file_name in sorted_file_names:\n",
    "    file_path = os.path.join(folder_path, file_name)\n",
    "    df = pd.read_csv(file_path)\n",
    "    column_data = df.iloc[:, 1]  # Extract the second column of data\n",
    "    merged_data.extend(column_data.tolist())  # Add data to merged list\n",
    "merged_df = pd.DataFrame(merged_data, columns=[\"w12_4\"])\n",
    "merged_df.to_csv(r\"C:\\Users\\e0427809\\Desktop\\Try\\well_50\\wells\\w12_4.csv\", index=False)"
   ]
  },
  {
   "cell_type": "code",
   "execution_count": 4,
   "metadata": {},
   "outputs": [],
   "source": [
    "input_file_path = r\"C:\\Users\\e0427809\\Desktop\\JI_Project/daily_27scenarios.csv\"  \n",
    "\n",
    "df = pd.read_csv(input_file_path)\n",
    "\n",
    "data = df.iloc[:, 1:].values\n",
    "\n",
    "merged_data = pd.Series()\n",
    "\n",
    "for column_data in data.T:\n",
    "    merged_data = merged_data.append(pd.Series(column_data))\n",
    "\n",
    "output_df = pd.DataFrame({\"Merged Data\": merged_data})\n",
    "\n",
    "output_df.to_csv(r'C:\\Users\\e0427809\\Desktop\\JI_Project\\prep.csv', index=False)\n"
   ]
  },
  {
   "cell_type": "code",
   "execution_count": null,
   "metadata": {},
   "outputs": [],
   "source": [
    "root_folder_path = r\"C:\\Users\\e0427809\\Desktop\\Try\\well_50\\wells\"  # Adjust the root folder path accordingly\n",
    "output_csv_path = r\"C:\\Users\\e0427809\\Desktop\\Try\\well_50\\merged_data.csv\"  # Adjust the output CSV file path accordingly\n",
    "merged_data = []\n",
    "\n",
    "# Get folder names in the root folder that start with \"w\"\n",
    "folder_names = [foldername for foldername in os.listdir(root_folder_path) if foldername.startswith(\"w\")]\n",
    "\n",
    "\n",
    "for folder_name in folder_names:\n",
    "    folder_path = os.path.join(root_folder_path, folder_name)\n",
    "    \n",
    "    # Get file names in the current folder that start with \"erate\"\n",
    "    file_names = [filename for filename in os.listdir(folder_path) if filename.startswith(\"erate\")]\n",
    "    \n",
    "    # Sort file names based on numeric order\n",
    "    sorted_file_names = sorted(file_names, key=lambda x: int(x.replace(\"erate\", \"\").replace(\".csv\", \"\")))\n",
    "    \n",
    "    column_data = []\n",
    "    for file_name in sorted_file_names:\n",
    "        file_path = os.path.join(folder_path, file_name)\n",
    "        df = pd.read_csv(file_path)\n",
    "        column_data.extend(df.iloc[:, 1].tolist())  # Append the second column data to the column_data list\n",
    "    \n",
    "    merged_data.append(column_data)  # Append the column_data list to the merged_data list\n",
    "\n",
    "merged_df = pd.DataFrame(merged_data).T  # Transpose the DataFrame to have columns instead of rows\n",
    "merged_df.columns = folder_names  # Set column names as the sorted folder names\n",
    "\n",
    "merged_df.to_csv(r'C:\\Users\\e0427809\\Desktop\\Try\\well_50\\merged_data.csv', index=False)"
   ]
  },
  {
   "cell_type": "code",
   "execution_count": 5,
   "metadata": {},
   "outputs": [],
   "source": [
    "df = pd.read_csv(r'C:\\Users\\e0427809\\Desktop\\JI_Project\\Freatic_head_20220601000001.csv',header = None)\n",
    "# Find the index of the row and column that correspond to the given location\n",
    "lat = 137462.5\n",
    "lon = 353137.5\n",
    "lon_idx = np.where(df.iloc[0, :] == lon)[0][0]\n",
    "lat_idx = np.where(df.iloc[:, 0] == lat)[0][0]\n",
    "lon_range = range(max(lon_idx - 5, 0), min(lon_idx + 5, len(df.columns)))\n",
    "lat_range = range(max(lat_idx - 5, 0), min(lat_idx + 5, len(df)))\n",
    "\n",
    "# extract the values of the 5x5 grid\n",
    "grid = df.iloc[lat_range, lon_range]\n",
    "\n",
    "grid.to_csv(r'C:\\Users\\e0427809\\Desktop\\JI_Project\\Spatial\\Freatic_head_well1.csv', index=False,header = False)"
   ]
  },
  {
   "cell_type": "code",
   "execution_count": 6,
   "metadata": {},
   "outputs": [],
   "source": []
  },
  {
   "cell_type": "code",
   "execution_count": 7,
   "metadata": {},
   "outputs": [],
   "source": [
    "bedrock = pd.read_csv(r'C:\\Users\\e0427809\\Desktop\\JI_Project\\Spatial\\bedrock_25_well1.csv')\n",
    "Freatic_head = pd.read_csv(r'C:\\Users\\e0427809\\Desktop\\JI_Project\\Spatial\\Freatic_head_well1.csv')\n",
    "khv = pd.read_csv(r'C:\\Users\\e0427809\\Desktop\\JI_Project\\Spatial\\khv_25_well1.csv')"
   ]
  },
  {
   "cell_type": "code",
   "execution_count": 8,
   "metadata": {},
   "outputs": [],
   "source": [
    "feature1 = Freatic_head.values\n",
    "feature2 = khv.values\n",
    "feature3 = bedrock.values\n"
   ]
  },
  {
   "cell_type": "code",
   "execution_count": 9,
   "metadata": {},
   "outputs": [],
   "source": [
    "data_mean = feature1.mean(axis=0)\n",
    "data_std = feature1.std(axis=0)\n",
    "scaled_data1= (feature1-data_mean)/data_std\n",
    "data_mean2 = feature2.mean(axis=0)\n",
    "data_std2 = feature2.std(axis=0)\n",
    "scaled_data2= (feature2-data_mean2)/data_std2\n",
    "data_mean3 = feature3.mean(axis=0)\n",
    "data_std3 = feature3.std(axis=0)\n",
    "scaled_data3 = (feature3-data_mean3)/data_std3"
   ]
  },
  {
   "cell_type": "code",
   "execution_count": 10,
   "metadata": {},
   "outputs": [],
   "source": [
    "input_cnn_data = np.stack([scaled_data1, scaled_data2, scaled_data3], axis=-1)\n",
    "input_cnn_data.shape\n",
    "\n",
    "x_train_cnn = np.repeat(input_cnn_data, 4409, axis=0)\n",
    "x_train_cnn = np.reshape(x_train_cnn, (4409, 9, 10, 3))\n",
    "\n",
    "x_train_cnn.shape"
   ]
  }
 ],
 "metadata": {
  "kernelspec": {
   "display_name": "Python 3 (ipykernel)",
   "language": "python",
   "name": "python3"
  },
  "language_info": {
   "codemirror_mode": {
    "name": "ipython",
    "version": 3
   },
   "file_extension": ".py",
   "mimetype": "text/x-python",
   "name": "python",
   "nbconvert_exporter": "python",
   "pygments_lexer": "ipython3",
   "version": "3.7.15"
  }
 },
 "nbformat": 4,
 "nbformat_minor": 2
}
